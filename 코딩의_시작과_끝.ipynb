{
  "nbformat": 4,
  "nbformat_minor": 0,
  "metadata": {
    "colab": {
      "provenance": [],
      "include_colab_link": true
    },
    "kernelspec": {
      "name": "python3",
      "display_name": "Python 3"
    },
    "language_info": {
      "name": "python"
    }
  },
  "cells": [
    {
      "cell_type": "markdown",
      "metadata": {
        "id": "view-in-github",
        "colab_type": "text"
      },
      "source": [
        "<a href=\"https://colab.research.google.com/github/KoKoalala/-portfolio/blob/main/%EC%BD%94%EB%94%A9%EC%9D%98_%EC%8B%9C%EC%9E%91%EA%B3%BC_%EB%81%9D.ipynb\" target=\"_parent\"><img src=\"https://colab.research.google.com/assets/colab-badge.svg\" alt=\"Open In Colab\"/></a>"
      ]
    },
    {
      "cell_type": "markdown",
      "source": [
        "A코드"
      ],
      "metadata": {
        "id": "nLasW2D1KeoJ"
      }
    },
    {
      "cell_type": "code",
      "execution_count": null,
      "metadata": {
        "id": "D8Goat_IzF5V",
        "colab": {
          "base_uri": "https://localhost:8080/"
        },
        "outputId": "a829a47c-7f29-4374-b300-ccb14cdafb6f"
      },
      "outputs": [
        {
          "name": "stdout",
          "output_type": "stream",
          "text": [
            "5 3\n"
          ]
        }
      ],
      "source": [
        "A = [0] * 10\n",
        "B = [0, 1000, 1000, 2000, 3000, 3000, 6000, 6000]\n",
        "\n",
        "n, k = map(int, input(\"띄어쓰기를 기준으로 인원수와 여행지로 결정하기 위해 필요한 득표 수를 입력해주세요.\").split())\n",
        "for _ in range(n):\n",
        "    C = list(map(int,input(\"띄어쓰기를 기준으로 사용자가 입력할 관광지의 수를 입력하시고\").split()))\n",
        "\n",
        "    for i in range(1,C[0]+1) :\n",
        "        A[C[i]] += 1\n",
        "\n",
        "ans = 0\n",
        "for i in range(1, 8):\n",
        "    if A[i] >= k:\n",
        "        ans += B[i]\n",
        "\n",
        "print(ans * n)\n"
      ]
    },
    {
      "cell_type": "markdown",
      "source": [
        "B코드"
      ],
      "metadata": {
        "id": "f_FdfA1tb6U_"
      }
    },
    {
      "cell_type": "code",
      "source": [
        "coochu = int(input())\n",
        "zang = 0\n",
        "if coochu % 5 == 0:\n",
        "  zang = coochu // 5\n",
        "  total = zang * 150000\n",
        "  print(zang, total)\n",
        "else:\n",
        "  zang = (coochu // 5)\n",
        "  total = zang * 150000\n",
        "  zang += 1\n",
        "  print(zang, total)"
      ],
      "metadata": {
        "id": "ubMESu4MeePE"
      },
      "execution_count": null,
      "outputs": []
    },
    {
      "cell_type": "markdown",
      "source": [
        "C코드"
      ],
      "metadata": {
        "id": "mCj6ST1WXE0L"
      }
    },
    {
      "cell_type": "code",
      "source": [
        "y,m,d=map(int,input().split('.'))\n",
        "yy,mm,dd=map(int,input().split('.'))\n",
        "days = [0,31,28,31,30,31,30,31,31,30,31,30,31]\n",
        "ans1=0\n",
        "ans2=0\n",
        "ny=1999\n",
        "nm=12\n",
        "nd=31\n",
        "cnt=4 #요일\n",
        "ck=0 #시작\n",
        "\n",
        "def yun(year):\n",
        "  if year % 400 == 0:\n",
        "    return 1\n",
        "\n",
        "  if (year % 4 == 0) and (year % 100 != 0):\n",
        "    return 1\n",
        "\n",
        "  return 0\n",
        "\n",
        "while True:\n",
        "  cnt=cnt+1\n",
        "  nd=nd+1\n",
        "\n",
        "  if cnt == 7:\n",
        "    cnt=cnt%7\n",
        "\n",
        "  if nd>days[nm]:\n",
        "    nd=1\n",
        "    nm=nm+1\n",
        "\n",
        "    if nm >= 13:\n",
        "     nm=1\n",
        "     ny=ny+1\n",
        "\n",
        "     if yun(ny)==1:\n",
        "       days[2] = 29\n",
        "     else:\n",
        "       days[2]=28\n",
        "  if ny==y and nm==m and nd==d:\n",
        "    ck=1\n",
        "  if ck==1 and cnt==4:\n",
        "    ans1=ans1+nm+nd\n",
        "    ans2=ans2+(nm+nd)*2\n",
        "\n",
        "  if ny == yy and nm == mm and nd == dd:\n",
        "    break\n",
        "print(ans1,ans2)"
      ],
      "metadata": {
        "colab": {
          "base_uri": "https://localhost:8080/",
          "height": 110
        },
        "id": "jWaitz9RXICJ",
        "outputId": "4243544f-885f-4368-b01f-3175dd924cd6"
      },
      "execution_count": null,
      "outputs": [
        {
          "output_type": "error",
          "ename": "SyntaxError",
          "evalue": "invalid syntax (<ipython-input-5-e5bf8c82494b>, line 34)",
          "traceback": [
            "\u001b[0;36m  File \u001b[0;32m\"<ipython-input-5-e5bf8c82494b>\"\u001b[0;36m, line \u001b[0;32m34\u001b[0m\n\u001b[0;31m    ny=ny+1:\u001b[0m\n\u001b[0m           ^\u001b[0m\n\u001b[0;31mSyntaxError\u001b[0m\u001b[0;31m:\u001b[0m invalid syntax\n"
          ]
        }
      ]
    },
    {
      "cell_type": "markdown",
      "source": [
        "D코드"
      ],
      "metadata": {
        "id": "yBGqwmgcKhkH"
      }
    },
    {
      "cell_type": "code",
      "source": [
        "a,b,c=map(int,input().split())\n",
        "cong=a//40\n",
        "sary=b//50\n",
        "dora=c//30\n",
        "if int(cong) <= int(sary) and int(cong) <= int(dora):\n",
        "  print(cong)\n",
        "elif int(sary) <= int(cong) and int(sary) <= int(dora):\n",
        "  print(sary)\n",
        "else:\n",
        "  print(dora)"
      ],
      "metadata": {
        "id": "4Pa5mBilKdGm",
        "outputId": "5838e0aa-9a6d-4676-98aa-d6fde8cfd527",
        "colab": {
          "base_uri": "https://localhost:8080/"
        }
      },
      "execution_count": null,
      "outputs": [
        {
          "output_type": "stream",
          "name": "stdout",
          "text": [
            "1000 1200 700\n",
            "23\n"
          ]
        }
      ]
    },
    {
      "cell_type": "markdown",
      "source": [
        "E코드"
      ],
      "metadata": {
        "id": "ZCRCnwIAF89n"
      }
    },
    {
      "cell_type": "code",
      "source": [
        "n=int(input(\"특산물의 가짓수를 입력해주세요. : \"))\n",
        "A=[0]+list(map(int,input(\"각 특산물의 가격을 띄어쓰기 기준으로 입력해주세요.: \").split()))\n",
        "m,k=map(int,input().split())\n",
        "ans=0\n",
        "for i in range(1,n+1):\n",
        "  for j in range(i+1,n+1):\n",
        "    for ii in range(j+1,n+1):\n",
        "      if (A[i]+A[j]+A[ii])*m <= k:\n",
        "        ans +=1\n",
        "print(\"당신의 답은\",ans,\"입니다.\")"
      ],
      "metadata": {
        "colab": {
          "base_uri": "https://localhost:8080/"
        },
        "id": "YGI8VOsgF8j3",
        "outputId": "429e91ad-1df5-4114-f458-ae8415cea20c"
      },
      "execution_count": null,
      "outputs": [
        {
          "output_type": "stream",
          "name": "stdout",
          "text": [
            "8\n",
            "1000 5000 2000 1500 2200 3400 10000 500\n",
            "8 100000\n",
            "39\n"
          ]
        }
      ]
    },
    {
      "cell_type": "markdown",
      "source": [
        "실험실"
      ],
      "metadata": {
        "id": "3ImVfm5xKd0Z"
      }
    },
    {
      "cell_type": "code",
      "source": [
        "list1=[월]\n",
        "print(list[0])\n"
      ],
      "metadata": {
        "colab": {
          "base_uri": "https://localhost:8080/",
          "height": 164
        },
        "id": "S8f8AXRH-BSn",
        "outputId": "0d82c123-528b-418e-fa77-7f03018cbcfc"
      },
      "execution_count": null,
      "outputs": [
        {
          "output_type": "error",
          "ename": "NameError",
          "evalue": "name '월' is not defined",
          "traceback": [
            "\u001b[0;31m---------------------------------------------------------------------------\u001b[0m",
            "\u001b[0;31mNameError\u001b[0m                                 Traceback (most recent call last)",
            "\u001b[0;32m<ipython-input-7-6d50a7c232c9>\u001b[0m in \u001b[0;36m<cell line: 1>\u001b[0;34m()\u001b[0m\n\u001b[0;32m----> 1\u001b[0;31m \u001b[0mlist1\u001b[0m\u001b[0;34m=\u001b[0m\u001b[0;34m[\u001b[0m\u001b[0m월\u001b[0m\u001b[0;34m]\u001b[0m\u001b[0;34m\u001b[0m\u001b[0;34m\u001b[0m\u001b[0m\n\u001b[0m\u001b[1;32m      2\u001b[0m \u001b[0mprint\u001b[0m\u001b[0;34m(\u001b[0m\u001b[0mlist\u001b[0m\u001b[0;34m[\u001b[0m\u001b[0;36m0\u001b[0m\u001b[0;34m]\u001b[0m\u001b[0;34m)\u001b[0m\u001b[0;34m\u001b[0m\u001b[0;34m\u001b[0m\u001b[0m\n",
            "\u001b[0;31mNameError\u001b[0m: name '월' is not defined"
          ]
        }
      ]
    },
    {
      "cell_type": "markdown",
      "source": [],
      "metadata": {
        "id": "qk2ljWLpzNOY"
      }
    }
  ]
}